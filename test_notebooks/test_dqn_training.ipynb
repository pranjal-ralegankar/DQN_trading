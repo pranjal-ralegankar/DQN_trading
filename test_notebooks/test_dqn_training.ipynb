{
 "cells": [
  {
   "cell_type": "code",
   "execution_count": null,
   "id": "ad21f673",
   "metadata": {},
   "outputs": [],
   "source": [
    "import os\n",
    "import sys\n",
    "\n",
    "# change working directory\n",
    "current_dir = os.getcwd() \n",
    "print(f\"Current Working Directory: {current_dir}\")\n",
    "parent_dir = os.path.abspath(os.path.join(current_dir, '..'))\n",
    "os.chdir(parent_dir)\n",
    "current_dir = os.getcwd()\n",
    "print(f\"Current Working Directory: {current_dir}\")\n",
    "#We need to be in the main directory that contains tests, models, etc folders"
   ]
  },
  {
   "cell_type": "code",
   "execution_count": null,
   "id": "4f414e56",
   "metadata": {},
   "outputs": [],
   "source": [
    "import pickle\n",
    "from matplotlib import pyplot as plt"
   ]
  },
  {
   "cell_type": "code",
   "execution_count": null,
   "id": "956b16ef",
   "metadata": {},
   "outputs": [],
   "source": [
    "with open('dqn_trading_results.pkl', 'rb') as f:\n",
    "    results = pickle.load(f)\n",
    "    DQN_test_profit = results['DQN_test_profit']\n",
    "    DQN_training_profit = results['DQN_training_profit']\n",
    "    train_dates = results['train_dates']\n",
    "    test_dates = results['test_dates']\n",
    "    Q=results['Qmodel']  # Assuming Q is also stored in the pickle file\n",
    "    q_values_over_epochs = results['q_values_over_epochs']\n",
    "    profit_epochs = results['DQN_profit_epochs']"
   ]
  },
  {
   "cell_type": "code",
   "execution_count": null,
   "id": "783fea83",
   "metadata": {},
   "outputs": [],
   "source": [
    "# Plotting the loss table\n",
    "plt.figure(figsize=(12, 6))\n",
    "plt.yscale('log')\n",
    "plt.plot(Q.loss_table, label='Loss')\n",
    "plt.title('Loss Over Training Iterations')\n",
    "plt.xlabel('Iteration')\n",
    "plt.ylabel('Loss')\n",
    "plt.legend()\n",
    "plt.tight_layout()\n",
    "plt.show()"
   ]
  },
  {
   "cell_type": "code",
   "execution_count": null,
   "id": "106ced41",
   "metadata": {},
   "outputs": [],
   "source": [
    "plt.figure(figsize=(10, 5))\n",
    "plt.plot(profit_epochs, marker='o')\n",
    "plt.title('Profit per Epoch')\n",
    "plt.xlabel('Epoch')\n",
    "plt.ylabel('Profit')\n",
    "plt.grid(True)\n",
    "plt.tight_layout()\n",
    "plt.show()"
   ]
  },
  {
   "cell_type": "code",
   "execution_count": null,
   "id": "e09299bc",
   "metadata": {},
   "outputs": [],
   "source": [
    "# Plot the Q-values for each action across epochs\n",
    "plt.figure(figsize=(18, 6))\n",
    "\n",
    "# Plot for action -1\n",
    "plt.subplot(1, 3, 1)\n",
    "for epoch, epoch_values in enumerate(q_values_over_epochs[-1]):\n",
    "    plt.plot(range(len(epoch_values)), epoch_values, label=f'Epoch {epoch + 1}')\n",
    "plt.title('Q-values for Action -1 Across Epochs')\n",
    "plt.xlabel('State Index')\n",
    "plt.ylabel('Q-value')\n",
    "plt.legend()\n",
    "\n",
    "# Plot for action 0\n",
    "plt.subplot(1, 3, 2)\n",
    "for epoch, epoch_values in enumerate(q_values_over_epochs[0]):\n",
    "    plt.plot(range(len(epoch_values)), epoch_values, label=f'Epoch {epoch + 1}')\n",
    "plt.title('Q-values for Action 0 Across Epochs')\n",
    "plt.xlabel('State Index')\n",
    "plt.ylabel('Q-value')\n",
    "plt.legend()\n",
    "\n",
    "# Plot for action 1\n",
    "plt.subplot(1, 3, 3)\n",
    "for epoch, epoch_values in enumerate(q_values_over_epochs[1]):\n",
    "    plt.plot(range(len(epoch_values)), epoch_values, label=f'Epoch {epoch + 1}')\n",
    "plt.title('Q-values for Action 1 Across Epochs')\n",
    "plt.xlabel('State Index')\n",
    "plt.ylabel('Q-value')\n",
    "plt.legend()\n",
    "\n",
    "plt.tight_layout()\n",
    "plt.show()"
   ]
  },
  {
   "cell_type": "code",
   "execution_count": null,
   "id": "a8045c3b",
   "metadata": {},
   "outputs": [],
   "source": [
    "# Plot the Q-values for the last epoch\n",
    "plt.figure(figsize=(12, 6))\n",
    "\n",
    "epoch=3\n",
    "for action in [-1, 0, 1]:\n",
    "    plt.plot(range(len(q_values_over_epochs[action][epoch])), q_values_over_epochs[action][epoch], label=f'Action {action}')\n",
    "\n",
    "plt.title('Q-values for the Last Epoch')\n",
    "plt.xlabel('State Index')\n",
    "plt.ylabel('Q-value')\n",
    "plt.legend()\n",
    "plt.tight_layout()\n",
    "plt.show()"
   ]
  }
 ],
 "metadata": {
  "language_info": {
   "name": "python"
  }
 },
 "nbformat": 4,
 "nbformat_minor": 5
}
