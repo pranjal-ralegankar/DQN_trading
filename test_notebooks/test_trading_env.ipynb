{
 "cells": [
  {
   "cell_type": "markdown",
   "id": "bcbe5ffe",
   "metadata": {},
   "source": [
    "# Trading Environment Test Notebook\n",
    "\n",
    "This notebook demonstrates and tests the basic operations of the `stock` trading environment class."
   ]
  },
  {
   "cell_type": "markdown",
   "id": "a3adffe5",
   "metadata": {},
   "source": [
    "## 1. Set Working Directory\n",
    "\n",
    "Ensure the working directory is set to the main project folder."
   ]
  },
  {
   "cell_type": "code",
   "execution_count": 1,
   "id": "333c1782",
   "metadata": {},
   "outputs": [
    {
     "name": "stdout",
     "output_type": "stream",
     "text": [
      "Current Working Directory: /mnt/c/Users/ASUS/OneDrive - SISSA/study/research/neural theory/data_science_finance/deepQN_trading/test_notebooks\n",
      "Current Working Directory: /mnt/c/Users/ASUS/OneDrive - SISSA/study/research/neural theory/data_science_finance/deepQN_trading\n"
     ]
    }
   ],
   "source": [
    "import os\n",
    "import sys\n",
    "\n",
    "# Change working directory to the parent (main) directory\n",
    "current_dir = os.getcwd()\n",
    "print(f\"Current Working Directory: {current_dir}\")\n",
    "parent_dir = os.path.abspath(os.path.join(current_dir, '..'))\n",
    "os.chdir(parent_dir)\n",
    "current_dir = os.getcwd()\n",
    "print(f\"Current Working Directory: {current_dir}\")\n",
    "# We need to be in the main directory that contains tests, models, etc folders"
   ]
  },
  {
   "cell_type": "markdown",
   "id": "3c2b7e87",
   "metadata": {},
   "source": [
    "## 2. Import Trading Environment Class"
   ]
  },
  {
   "cell_type": "code",
   "execution_count": 2,
   "id": "582f393e",
   "metadata": {},
   "outputs": [],
   "source": [
    "from trading_env_class import stock"
   ]
  },
  {
   "cell_type": "markdown",
   "id": "df98abd3",
   "metadata": {},
   "source": [
    "## 3. Create Stock Instance and Prepare Test Data"
   ]
  },
  {
   "cell_type": "code",
   "execution_count": 3,
   "id": "adae0a41",
   "metadata": {},
   "outputs": [],
   "source": [
    "# Create a stock instance with a sample ticker\n",
    "test_stock = stock(\"^GSPC\")\n",
    "\n",
    "# Define a test date and price using test_stock.all_dates\n",
    "test_date = test_stock.all_dates[0]  # Use the first date in all_dates\n",
    "test_price = test_stock.all_prices[0]"
   ]
  },
  {
   "cell_type": "markdown",
   "id": "5f00f7ac",
   "metadata": {},
   "source": [
    "## 4. Test Buy and Sell Operations\n",
    "\n",
    "The following cells perform a sequence of buy and sell operations and print the immediate and realized profits to verify correctness.\n",
    "\n",
    "**Additional checks:**\n",
    "- Test both buy and sell (long and short) operations.\n",
    "- Test realized profit after closing all positions.\n",
    "- Test that immediate profit is updated correctly after each operation.\n",
    "- Test edge cases: selling more than owned, buying with no position, closing with no open position."
   ]
  },
  {
   "cell_type": "markdown",
   "id": "d14badf5",
   "metadata": {},
   "source": [
    "### Test 1: Short selling and covering"
   ]
  },
  {
   "cell_type": "code",
   "execution_count": 17,
   "id": "38db047c",
   "metadata": {},
   "outputs": [],
   "source": [
    "test_stock = stock(\"^GSPC\")\n",
    "test_date = test_stock.all_dates[0]\n",
    "test_price = test_stock.all_prices[0]\n",
    "\n",
    "# Short 10 shares\n",
    "test_stock.sell(test_date, 10)\n",
    "# Immediate profit should be zero after opening short (no closing action yet)\n",
    "assert test_stock.immediate_profit == 0, \"Immediate profit should be zero after opening short.\"\n",
    "assert test_stock.realized_profit == 0, \"Realized profit should be zero after opening short.\""
   ]
  },
  {
   "cell_type": "code",
   "execution_count": 18,
   "id": "1d95db58",
   "metadata": {},
   "outputs": [],
   "source": [
    "# Cover 5 shares next day\n",
    "test_date2 = test_stock.all_dates[1]\n",
    "cover_price = test_stock.all_prices[1]\n",
    "test_stock.buy(test_date2, 5)\n",
    "# Immediate profit is realized only for the closed portion (5 shares)\n",
    "expected_profit = 5 * (test_price - cover_price)\n",
    "assert abs(test_stock.immediate_profit - expected_profit) < 1e-8, \"Immediate profit after partial cover incorrect.\"\n",
    "assert abs(test_stock.realized_profit - expected_profit) < 1e-8, \"Realized profit after partial cover incorrect.\""
   ]
  },
  {
   "cell_type": "code",
   "execution_count": 19,
   "id": "66eb4990",
   "metadata": {},
   "outputs": [],
   "source": [
    "# Cover remaining 5 shares\n",
    "test_date3 = test_stock.all_dates[2]\n",
    "cover_price2 = test_stock.all_prices[2]\n",
    "test_stock.buy(test_date3, 5)\n",
    "expected_profit2 = 5 * (test_price - cover_price2)\n",
    "assert abs(test_stock.immediate_profit - expected_profit2) < 1e-8, \"Immediate profit after full cover incorrect.\"\n",
    "assert abs(test_stock.realized_profit - (expected_profit + expected_profit2)) < 1e-8, \"Realized profit after full cover incorrect.\""
   ]
  },
  {
   "cell_type": "code",
   "execution_count": 20,
   "id": "0ac097c0",
   "metadata": {},
   "outputs": [
    {
     "name": "stdout",
     "output_type": "stream",
     "text": [
      "Short selling test passed.\n"
     ]
    }
   ],
   "source": [
    "# Realized profit should match sum of all immediate profits after all positions closed\n",
    "test_stock.close(test_date3)\n",
    "assert test_stock.short_position == 0 and test_stock.long_position == 0, \"All positions should be closed.\"\n",
    "print(\"Short selling test passed.\")"
   ]
  },
  {
   "cell_type": "markdown",
   "id": "0ac83121",
   "metadata": {},
   "source": [
    "### Test 2: Long buying and selling"
   ]
  },
  {
   "cell_type": "code",
   "execution_count": 21,
   "id": "ec43a75c",
   "metadata": {},
   "outputs": [],
   "source": [
    "test_stock = stock(\"^GSPC\")\n",
    "test_date = test_stock.all_dates[0]\n",
    "buy_price = test_stock.all_prices[0]\n",
    "test_stock.buy(test_date, 10)\n",
    "# Immediate profit should be zero after opening long (no closing action yet)\n",
    "assert test_stock.immediate_profit == 0, \"Immediate profit should be zero after opening long.\"\n",
    "assert test_stock.realized_profit == 0, \"Realized profit should be zero after opening long.\""
   ]
  },
  {
   "cell_type": "code",
   "execution_count": 22,
   "id": "8ada5439",
   "metadata": {},
   "outputs": [],
   "source": [
    "test_date2 = test_stock.all_dates[1]\n",
    "sell_price1 = test_stock.all_prices[1]\n",
    "test_stock.sell(test_date2, 5)\n",
    "expected_profit = 5 * (sell_price1 - buy_price)\n",
    "assert abs(test_stock.immediate_profit - expected_profit) < 1e-8, \"Immediate profit after partial sell incorrect.\"\n",
    "assert abs(test_stock.realized_profit - expected_profit) < 1e-8, \"Realized profit after partial sell incorrect.\""
   ]
  },
  {
   "cell_type": "code",
   "execution_count": 23,
   "id": "76b30c4b",
   "metadata": {},
   "outputs": [],
   "source": [
    "test_date3 = test_stock.all_dates[2]\n",
    "sell_price2 = test_stock.all_prices[2]\n",
    "test_stock.sell(test_date3, 5)\n",
    "expected_profit2 = 5 * (sell_price2 - buy_price)\n",
    "assert abs(test_stock.immediate_profit - expected_profit2) < 1e-8, \"Immediate profit after full sell incorrect.\"\n",
    "assert abs(test_stock.realized_profit - (expected_profit + expected_profit2)) < 1e-8, \"Realized profit after full sell incorrect.\""
   ]
  },
  {
   "cell_type": "code",
   "execution_count": 24,
   "id": "ba67843a",
   "metadata": {},
   "outputs": [
    {
     "name": "stdout",
     "output_type": "stream",
     "text": [
      "Long buying test passed.\n"
     ]
    }
   ],
   "source": [
    "test_stock.close(test_date3)\n",
    "assert test_stock.short_position == 0 and test_stock.long_position == 0, \"All positions should be closed.\"\n",
    "print(\"Long buying test passed.\")"
   ]
  },
  {
   "cell_type": "markdown",
   "id": "524344dd",
   "metadata": {},
   "source": [
    "### Test 3: Edge case - closing with no open position"
   ]
  },
  {
   "cell_type": "code",
   "execution_count": 25,
   "id": "6cb5b129",
   "metadata": {},
   "outputs": [
    {
     "name": "stdout",
     "output_type": "stream",
     "text": [
      "Edge case (close with no position) test passed.\n"
     ]
    }
   ],
   "source": [
    "test_stock = stock(\"^GSPC\")\n",
    "test_date = test_stock.all_dates[0]\n",
    "test_stock.close(test_date)\n",
    "# No trades made, so realized profit should be zero and positions should be closed\n",
    "assert test_stock.realized_profit == 0, \"Realized profit should be zero if no trades were made.\"\n",
    "assert test_stock.short_position == 0 and test_stock.long_position == 0, \"All positions should be closed if no trades were made.\"\n",
    "print(\"Edge case (close with no position) test passed.\")"
   ]
  }
 ],
 "metadata": {
  "kernelspec": {
   "display_name": "conv_emerge",
   "language": "python",
   "name": "python3"
  },
  "language_info": {
   "codemirror_mode": {
    "name": "ipython",
    "version": 3
   },
   "file_extension": ".py",
   "mimetype": "text/x-python",
   "name": "python",
   "nbconvert_exporter": "python",
   "pygments_lexer": "ipython3",
   "version": "3.10.18"
  }
 },
 "nbformat": 4,
 "nbformat_minor": 5
}
