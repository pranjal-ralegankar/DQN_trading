{
 "cells": [
  {
   "cell_type": "code",
   "execution_count": null,
   "id": "3a5d2832",
   "metadata": {},
   "outputs": [],
   "source": [
    "import os\n",
    "import sys\n",
    "\n",
    "# change working directory\n",
    "current_dir = os.getcwd() \n",
    "print(f\"Current Working Directory: {current_dir}\")\n",
    "parent_dir = os.path.abspath(os.path.join(current_dir, '..'))\n",
    "os.chdir(parent_dir)\n",
    "current_dir = os.getcwd()\n",
    "print(f\"Current Working Directory: {current_dir}\")\n",
    "#We need to be in the main directory that contains tests, models, etc folders"
   ]
  },
  {
   "cell_type": "code",
   "execution_count": null,
   "id": "30864e7a",
   "metadata": {},
   "outputs": [],
   "source": [
    "from trading_env_class import stock"
   ]
  },
  {
   "cell_type": "code",
   "execution_count": null,
   "id": "33f2325a",
   "metadata": {},
   "outputs": [],
   "source": [
    "# Create a stock instance with a sample ticker\n",
    "test_stock = stock(\"^GSPC\")\n",
    "\n",
    "# Define a test date and price\n",
    "test_date = price_history[\"^GSPC\"].index[0]  # Use the first date in price_history\n",
    "test_price = price_history[\"^GSPC\"][test_date]"
   ]
  },
  {
   "cell_type": "code",
   "execution_count": null,
   "id": "354ebd48",
   "metadata": {},
   "outputs": [],
   "source": [
    "# Perform a buy operation\n",
    "test_stock.sell(test_date, 10)  # Buy 10 shares\n",
    "print(test_stock.immediate_profit)\n",
    "\n",
    "test_date2 = price_history[\"^GSPC\"].index[1]  # Use the first date in price_history\n",
    "test_stock.buy(test_date2, 5)  # Sell 5 shares\n",
    "expected_profit = 5 * (price_history[\"^GSPC\"][test_date2]-test_price)  # Expected profit from selling 5 shares\n",
    "print(test_stock.immediate_profit, expected_profit)\n",
    "\n",
    "test_date21 = price_history[\"^GSPC\"].index[2]  # Use the first date in price_history\n",
    "test_stock.sell(test_date21, 5)  # Sell 5 shares\n",
    "expected_profit = 0\n",
    "print(test_stock.immediate_profit, expected_profit)\n",
    "\n",
    "test_date3 = price_history[\"^GSPC\"].index[3]  # Use the first date in price_history\n",
    "test_stock.buy(test_date3, 5)  # Sell 5 shares\n",
    "expected_profit = 5 * (price_history[\"^GSPC\"][test_date3]-test_price)  # Expected profit from selling 5 shares\n",
    "print(test_stock.immediate_profit, expected_profit)\n",
    "\n",
    "print(test_stock.realized_profit)\n",
    "\n",
    "date5=price_history[\"^GSPC\"].index[5]\n",
    "test_stock.close(price_history[\"^GSPC\"].index[5])\n",
    "expected_profit = 5 * (price_history[\"^GSPC\"][date5]-price_history[\"^GSPC\"][test_date21])\n",
    "print(test_stock.immediate_profit, expected_profit)\n",
    "\n",
    "print(test_stock.realized_profit)\n",
    "print(\"Test passed: .immediate_profit is working as expected.\")"
   ]
  }
 ],
 "metadata": {
  "language_info": {
   "name": "python"
  }
 },
 "nbformat": 4,
 "nbformat_minor": 5
}
