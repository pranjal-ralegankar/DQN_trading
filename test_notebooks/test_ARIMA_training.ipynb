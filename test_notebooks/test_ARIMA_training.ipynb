{
 "cells": [
  {
   "cell_type": "code",
   "execution_count": null,
   "id": "e0aab735",
   "metadata": {},
   "outputs": [],
   "source": [
    "import os\n",
    "import sys\n",
    "\n",
    "# change working directory\n",
    "current_dir = os.getcwd() \n",
    "print(f\"Current Working Directory: {current_dir}\")\n",
    "parent_dir = os.path.abspath(os.path.join(current_dir, '..'))\n",
    "os.chdir(parent_dir)\n",
    "current_dir = os.getcwd()\n",
    "print(f\"Current Working Directory: {current_dir}\")\n",
    "#We need to be in the main directory that contains tests, models, etc folders"
   ]
  },
  {
   "cell_type": "code",
   "execution_count": null,
   "id": "6b7062e3",
   "metadata": {},
   "outputs": [],
   "source": [
    "from ARIMA_model import log_return_df, threshold_array, window_array, arima_profit\n",
    "import matplotlib.pyplot as plt\n",
    "import statsmodels.api as sm\n",
    "from statsmodels.tsa.stattools import adfuller\n",
    "import pandas as pd\n",
    "from statsmodels.graphics.tsaplots import plot_acf, plot_pacf\n",
    "import pickle"
   ]
  },
  {
   "cell_type": "code",
   "execution_count": null,
   "id": "880716dc",
   "metadata": {},
   "outputs": [],
   "source": [
    "with open('dqn_trading_results.pkl', 'rb') as f:\n",
    "    results = pickle.load(f)\n",
    "    train_dates = results['train_dates']\n",
    "    threshold = results['ARIMA_best_threshold']\n",
    "    window_size = results['ARIMA_best_window_size']\n",
    "\n",
    "Ntrain = len(train_dates)"
   ]
  },
  {
   "cell_type": "code",
   "execution_count": null,
   "id": "56efc09c",
   "metadata": {},
   "outputs": [],
   "source": [
    "print(log_return_df.head())\n",
    "# Plot the log of daily returns\n",
    "plt.figure(figsize=(12, 6))\n",
    "plt.plot(log_return_df['Date'][:Ntrain], log_return_df['Log_Daily_Return'][:Ntrain], label='Log Daily Return')\n",
    "plt.title('Log of Daily Returns of Training Data')\n",
    "plt.xlabel('Date')\n",
    "plt.ylabel('Log Daily Return')\n",
    "plt.xticks(rotation=45)\n",
    "plt.legend()\n",
    "plt.tight_layout()\n",
    "plt.show()"
   ]
  },
  {
   "cell_type": "markdown",
   "id": "319aedb2",
   "metadata": {},
   "source": [
    "## Test for stationarity of the udiff series\n",
    "\n",
    "Time series are stationary if they do not contain trends or seasonal swings. The Dickey-Fuller test can be used to test for stationarity. "
   ]
  },
  {
   "cell_type": "code",
   "execution_count": null,
   "id": "d035da16",
   "metadata": {},
   "outputs": [],
   "source": [
    "# Perform Dickey-Fuller test\n",
    "dftest = adfuller(log_return_df.Log_Daily_Return[:Ntrain], autolag='AIC')\n",
    "dfoutput = pd.Series(dftest[0:4], index=['Test Statistic', 'p-value', '#Lags Used', 'Number of Observations Used'])\n",
    "for key, value in dftest[4].items():\n",
    "    dfoutput['Critical Value ({0})'.format(key)] = value\n",
    "    \n",
    "dfoutput"
   ]
  },
  {
   "cell_type": "markdown",
   "id": "0fa0a70a",
   "metadata": {},
   "source": [
    "## ACF and PACF Charts\n",
    "\n",
    "Making autocorrelation and partial autocorrelation charts help us choose hyperparameters for the ARIMA model.\n",
    "\n",
    "The ACF gives us a measure of how much each \"y\" value is correlated to the previous n \"y\" values prior.\n",
    "\n",
    "The PACF is the partial correlation function gives us (a sample of) the amount of correlation between two \"y\" values separated by n lags excluding the impact of all the \"y\" values in between them. "
   ]
  },
  {
   "cell_type": "code",
   "execution_count": null,
   "id": "9e4c07a4",
   "metadata": {},
   "outputs": [],
   "source": [
    "# the autocorrelation chart provides just the correlation at increasing lags\n",
    "# fig, ax = plt.subplots(figsize=(12,5))\n",
    "# plot_acf(log_return_df['Log_Daily_Return'], lags=10, ax=ax)\n",
    "# plt.show()\n",
    "\n",
    "# fig, ax = plt.subplots(figsize=(12,5))\n",
    "# plot_pacf(log_return_df['Log_Daily_Return'], lags=10, ax=ax)\n",
    "# plt.show()\n",
    "\n",
    "fig, axes = plt.subplots(1, 2, figsize=(18, 5))\n",
    "\n",
    "plot_acf(log_return_df['Log_Daily_Return'][:Ntrain], lags=10, ax=axes[0])\n",
    "axes[0].set_title('Autocorrelation (ACF)')\n",
    "\n",
    "plot_pacf(log_return_df['Log_Daily_Return'][:Ntrain], lags=10, ax=axes[1])\n",
    "axes[1].set_title('Partial Autocorrelation (PACF)')\n",
    "\n",
    "plt.tight_layout()\n",
    "plt.show()"
   ]
  },
  {
   "cell_type": "markdown",
   "id": "901d8622",
   "metadata": {},
   "source": [
    "### Fitting ARIMA on the whole training dataset"
   ]
  },
  {
   "cell_type": "code",
   "execution_count": null,
   "id": "bc799699",
   "metadata": {},
   "outputs": [],
   "source": [
    "from statsmodels.tsa.arima.model import ARIMA\n",
    "\n",
    "# Notice that you have to use udiff - the differenced data rather than the original data.\n",
    "ar1 = ARIMA(log_return_df['Log_Daily_Return'][:Ntrain], order = (1, 0,1)).fit()\n",
    "ar1.summary()"
   ]
  },
  {
   "cell_type": "markdown",
   "id": "49d9bc1b",
   "metadata": {},
   "source": []
  },
  {
   "cell_type": "code",
   "execution_count": null,
   "id": "dbabc691",
   "metadata": {},
   "outputs": [],
   "source": [
    "# Plot profit for different threshold values using the best window_size\n",
    "profits = []\n",
    "for th in threshold_array:\n",
    "    profit = arima_profit(0, Ntrain, window_size, th, 1, 1)\n",
    "    profits.append(profit)\n",
    "\n",
    "profits_window = []\n",
    "for win in window_array:\n",
    "    profit = arima_profit(0, Ntrain, win, threshold, 1, 1)\n",
    "    profits_window.append(profit)\n",
    "\n",
    "fig, axes = plt.subplots(1, 2, figsize=(18, 6))\n",
    "\n",
    "# Plot for different thresholds\n",
    "for i, profit in enumerate(profits):\n",
    "    axes[0].plot(train_dates, profit, label=f'Threshold={threshold_array[i]}')\n",
    "axes[0].legend()\n",
    "axes[0].set_xlabel('Date')\n",
    "axes[0].set_ylabel('Profit')\n",
    "axes[0].set_title(f'Profit vs Threshold (Window Size = {window_size})')\n",
    "axes[0].grid(True)\n",
    "\n",
    "# Plot for different window sizes\n",
    "for i, profit in enumerate(profits_window):\n",
    "    axes[1].plot(train_dates, profit, label=f'Window={window_array[i]}')\n",
    "axes[1].legend()\n",
    "axes[1].set_xlabel('Date')\n",
    "axes[1].set_ylabel('Profit')\n",
    "axes[1].set_title(f'Profit vs Window Size (Threshold = {threshold})')\n",
    "axes[1].grid(True)\n",
    "\n",
    "plt.tight_layout()\n",
    "plt.show()\n"
   ]
  }
 ],
 "metadata": {
  "language_info": {
   "name": "python"
  }
 },
 "nbformat": 4,
 "nbformat_minor": 5
}
