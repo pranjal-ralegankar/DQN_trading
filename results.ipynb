{
 "cells": [
  {
   "cell_type": "code",
   "execution_count": null,
   "id": "432d101f",
   "metadata": {},
   "outputs": [],
   "source": [
    "from trading_env_class import stock\n",
    "import numpy as np\n",
    "from matplotlib import pyplot as plt\n",
    "import pickle"
   ]
  },
  {
   "cell_type": "code",
   "execution_count": null,
   "id": "ded1c91b",
   "metadata": {},
   "outputs": [],
   "source": [
    "with open('dqn_trading_results.pkl', 'rb') as f:\n",
    "    results = pickle.load(f)\n",
    "    DQN_test_profit = results['DQN_test_profit']\n",
    "    DQN_training_profit = results['DQN_training_profit']\n",
    "    ARIMA_test_profit = results['ARIMA_test_profit']\n",
    "    ARIMA_training_profit = results['ARIMA_training_profit']\n",
    "    train_dates = results['train_dates']\n",
    "    test_dates = results['test_dates']"
   ]
  },
  {
   "cell_type": "code",
   "execution_count": null,
   "id": "8458e4a4",
   "metadata": {},
   "outputs": [],
   "source": [
    "# Combine training and test profit plots into one figure with two subplots\n",
    "fig, axs = plt.subplots(2, 1, figsize=(14, 10), sharex=False)\n",
    "\n",
    "# Training data subplot\n",
    "axs[0].plot(train_dates, DQN_training_profit, label='DQN')\n",
    "axs[0].plot(train_dates, ARIMA_training_profit, label='ARIMA')\n",
    "axs[0].set_title('Realized Profit Over Time on Training Data')\n",
    "axs[0].set_xlabel('Date')\n",
    "axs[0].set_ylabel('Realized Profit')\n",
    "axs[0].legend()\n",
    "axs[0].tick_params(axis='x', rotation=45)\n",
    "\n",
    "# Test data subplot\n",
    "axs[1].plot(test_dates, DQN_test_profit, label='DQN')\n",
    "axs[1].plot(test_dates, ARIMA_test_profit, label='ARIMA')\n",
    "axs[1].set_title('Realized Profit Over Time on Test Data')\n",
    "axs[1].set_xlabel('Date')\n",
    "axs[1].set_ylabel('Realized Profit')\n",
    "axs[1].legend()\n",
    "axs[1].tick_params(axis='x', rotation=45)\n",
    "\n",
    "plt.tight_layout()\n",
    "plt.show()"
   ]
  },
  {
   "cell_type": "code",
   "execution_count": null,
   "id": "8a2c129a",
   "metadata": {},
   "outputs": [],
   "source": []
  }
 ],
 "metadata": {
  "language_info": {
   "name": "python"
  }
 },
 "nbformat": 4,
 "nbformat_minor": 5
}
